{
  "nbformat": 4,
  "nbformat_minor": 0,
  "metadata": {
    "colab": {
      "name": "FrozenLake-v0.ipynb",
      "provenance": [],
      "include_colab_link": true
    },
    "kernelspec": {
      "name": "python3",
      "display_name": "Python 3"
    },
    "language_info": {
      "name": "python"
    }
  },
  "cells": [
    {
      "cell_type": "markdown",
      "metadata": {
        "id": "view-in-github",
        "colab_type": "text"
      },
      "source": [
        "<a href=\"https://colab.research.google.com/github/Null3rror/OpenAI-Gym/blob/master/FrozenLake_v0.ipynb\" target=\"_parent\"><img src=\"https://colab.research.google.com/assets/colab-badge.svg\" alt=\"Open In Colab\"/></a>"
      ]
    },
    {
      "cell_type": "markdown",
      "metadata": {
        "id": "V-vXsP2lpzVh"
      },
      "source": [
        "# install dependancies, takes around 45 seconds\n",
        "\n",
        "Rendering Dependancies\n"
      ]
    },
    {
      "cell_type": "code",
      "metadata": {
        "id": "oOmhVhTfpl4A"
      },
      "source": [
        "#remove \" > /dev/null 2>&1\" to see what is going on under the hood\n",
        "!pip install gym pyvirtualdisplay > /dev/null 2>&1\n",
        "!apt-get install -y xvfb python-opengl ffmpeg > /dev/null 2>&1"
      ],
      "execution_count": 1,
      "outputs": []
    },
    {
      "cell_type": "code",
      "metadata": {
        "colab": {
          "base_uri": "https://localhost:8080/"
        },
        "id": "sxo9Mk7pqC0k",
        "outputId": "182f5253-3aa4-4388-f13e-a223d519054f"
      },
      "source": [
        "!apt-get update > /dev/null 2>&1\n",
        "!apt-get install cmake > /dev/null 2>&1\n",
        "!pip install --upgrade setuptools 2>&1\n",
        "!pip install ez_setup > /dev/null 2>&1\n",
        "# !pip install gym[atari] > /dev/null 2>&1"
      ],
      "execution_count": 2,
      "outputs": [
        {
          "output_type": "stream",
          "name": "stdout",
          "text": [
            "Requirement already satisfied: setuptools in /usr/local/lib/python3.7/dist-packages (60.0.4)\n"
          ]
        }
      ]
    },
    {
      "cell_type": "code",
      "metadata": {
        "id": "zuiedsWwbmDY"
      },
      "source": [
        "import gym\n",
        "from gym import logger as gymlogger\n",
        "from gym.wrappers import Monitor\n",
        "gymlogger.set_level(40) #error only\n",
        "import tensorflow as tf\n",
        "import numpy as np\n",
        "import random\n",
        "import matplotlib\n",
        "import matplotlib.pyplot as plt\n",
        "%matplotlib inline\n",
        "import math\n",
        "import glob\n",
        "import io\n",
        "import base64\n",
        "import matplotlib.pyplot as plt\n",
        "import seaborn as sns\n",
        "from IPython.display import HTML, clear_output\n",
        "\n",
        "from IPython import display as ipythondisplay"
      ],
      "execution_count": 3,
      "outputs": []
    },
    {
      "cell_type": "code",
      "metadata": {
        "colab": {
          "base_uri": "https://localhost:8080/"
        },
        "id": "DCa7BJqSqM-_",
        "outputId": "c78e888a-17a0-4458-c90b-ac510c3c022d"
      },
      "source": [
        "from pyvirtualdisplay import Display\n",
        "display = Display(visible=0, size=(1400, 900))\n",
        "display.start()"
      ],
      "execution_count": 4,
      "outputs": [
        {
          "output_type": "execute_result",
          "data": {
            "text/plain": [
              "<pyvirtualdisplay.display.Display at 0x7f74fec0a510>"
            ]
          },
          "metadata": {},
          "execution_count": 4
        }
      ]
    },
    {
      "cell_type": "code",
      "metadata": {
        "id": "tePM5oUXrZKQ"
      },
      "source": [
        "def query_environment(name):\n",
        "  env = gym.make(name)\n",
        "  spec = gym.spec(name)\n",
        "  print(f\"Action Space: {env.action_space}\")\n",
        "  print(f\"Observation Space: {env.observation_space}\")\n",
        "  print(f\"Max Episode Steps: {spec.max_episode_steps}\")\n",
        "  print(f\"Nondeterministic: {spec.nondeterministic}\")\n",
        "  print(f\"Reward Range: {env.reward_range}\")\n",
        "  print(f\"Reward Threshold: {spec.reward_threshold}\")\n",
        "  return env"
      ],
      "execution_count": 5,
      "outputs": []
    },
    {
      "cell_type": "markdown",
      "metadata": {
        "id": "8u2CxpNHqYcX"
      },
      "source": [
        "# FrozenLake-v0!"
      ]
    },
    {
      "cell_type": "code",
      "source": [
        "def actions_to_letters(actions):\n",
        "    res = []\n",
        "    for a in actions:\n",
        "        if a == 0:\n",
        "            res.append(\"L\")\n",
        "        elif a == 1:\n",
        "            res.append(\"D\")    \n",
        "        elif a == 2:\n",
        "            res.append(\"R\")   \n",
        "        elif a == 3:\n",
        "            res.append(\"U\") \n",
        "  \n",
        "    return np.array(res)"
      ],
      "metadata": {
        "id": "LVBfkok7iEWL"
      },
      "execution_count": 6,
      "outputs": []
    },
    {
      "cell_type": "code",
      "metadata": {
        "colab": {
          "base_uri": "https://localhost:8080/"
        },
        "id": "PuuvMtgZbtQ8",
        "outputId": "c9077b06-f655-428a-e9ba-5384cb571f82"
      },
      "source": [
        "env = query_environment(\"FrozenLake-v0\")"
      ],
      "execution_count": 7,
      "outputs": [
        {
          "output_type": "stream",
          "name": "stdout",
          "text": [
            "Action Space: Discrete(4)\n",
            "Observation Space: Discrete(16)\n",
            "Max Episode Steps: 100\n",
            "Nondeterministic: False\n",
            "Reward Range: (0, 1)\n",
            "Reward Threshold: 0.78\n"
          ]
        }
      ]
    },
    {
      "cell_type": "code",
      "metadata": {
        "id": "BlXa8E1UAxV6"
      },
      "source": [
        "alpha = 0.3\n",
        "epsilon_max = 1\n",
        "epsilon = 1\n",
        "epsilon_min = 0.01\n",
        "epsilon_decay_rate = 0.005\n",
        "discount = 0.99\n",
        "max_step_count = 100\n",
        "\n",
        "episodes = 15000"
      ],
      "execution_count": 264,
      "outputs": []
    },
    {
      "cell_type": "code",
      "metadata": {
        "id": "agtKwL-3WNEa",
        "colab": {
          "base_uri": "https://localhost:8080/"
        },
        "outputId": "17a2d79f-87b8-4c1c-f4f1-d5392ef53ba8"
      },
      "source": [
        "num_reached_goals = 0\n",
        "num_reached_holes = 0\n",
        "Q = np.zeros((env.observation_space.n, env.action_space.n))\n",
        "for i in range(1, episodes):\n",
        "  observation = env.reset()\n",
        "  np.random.seed(i)\n",
        "  step_count = 0\n",
        "  while True:\n",
        "    # env.render()\n",
        "    probability = random.uniform(0, 1)\n",
        "    if probability <= epsilon:\n",
        "      action = env.action_space.sample() \n",
        "    else:\n",
        "      action = np.argmax(Q[observation])\n",
        "\n",
        "    next_observation, reward, done, info = env.step(action) \n",
        "\n",
        "    q = Q[observation, action] \n",
        "    Q[observation, action] = q + alpha * (reward + discount * np.max(Q[next_observation]) - q)\n",
        "\n",
        "    observation = next_observation\n",
        "    step_count += 1\n",
        "\n",
        "    if done: \n",
        "      # clear_output(wait=True)\n",
        "      if reward == 1:\n",
        "        num_reached_goals += 1\n",
        "      else:\n",
        "        num_reached_holes += 1\n",
        "      break\n",
        "    if step_count >= max_step_count:\n",
        "      break\n",
        "  t = np.exp(-epsilon_decay_rate * i)\n",
        "  epsilon = epsilon_min * (1 - t) + epsilon_max * t\n",
        "  # print(epsilon)\n",
        "  if i % 100 == 0:\n",
        "    clear_output(wait=True)\n",
        "    print(epsilon)\n",
        "    print(f\"Epoch: {i}\")\n",
        "  "
      ],
      "execution_count": 265,
      "outputs": [
        {
          "output_type": "stream",
          "name": "stdout",
          "text": [
            "0.01\n",
            "Epoch: 14900\n"
          ]
        }
      ]
    },
    {
      "cell_type": "code",
      "metadata": {
        "colab": {
          "base_uri": "https://localhost:8080/"
        },
        "id": "sYtEh6jccpIB",
        "outputId": "4cd5048e-fc81-4571-ff06-ce760b9b1d92"
      },
      "source": [
        "print(Q)\n",
        "print(num_reached_goals)\n",
        "print(num_reached_holes)\n",
        "print(num_reached_goals / (num_reached_holes + num_reached_goals))"
      ],
      "execution_count": 266,
      "outputs": [
        {
          "output_type": "stream",
          "name": "stdout",
          "text": [
            "[[0.51385859 0.5141297  0.50593197 0.49454605]\n",
            " [0.34906971 0.26177617 0.26201747 0.50686902]\n",
            " [0.35913497 0.38302029 0.35303532 0.48181766]\n",
            " [0.30480433 0.29681473 0.23288505 0.47048341]\n",
            " [0.51699368 0.51259636 0.22211197 0.4562173 ]\n",
            " [0.         0.         0.         0.        ]\n",
            " [0.08261719 0.00605706 0.15776746 0.02424281]\n",
            " [0.         0.         0.         0.        ]\n",
            " [0.45732733 0.38485004 0.49330462 0.53822737]\n",
            " [0.27145131 0.59668122 0.40492394 0.23371287]\n",
            " [0.44572738 0.27094957 0.37039519 0.21530634]\n",
            " [0.         0.         0.         0.        ]\n",
            " [0.         0.         0.         0.        ]\n",
            " [0.53494633 0.35658379 0.75225078 0.53992816]\n",
            " [0.7075193  0.93888788 0.61749719 0.61990643]\n",
            " [0.         0.         0.         0.        ]]\n",
            "9440\n",
            "5559\n",
            "0.6293752916861124\n"
          ]
        }
      ]
    },
    {
      "cell_type": "code",
      "metadata": {
        "colab": {
          "base_uri": "https://localhost:8080/"
        },
        "id": "K5yEUEnFcAeZ",
        "outputId": "39f7920a-f530-4676-d346-5bcd39639ad8"
      },
      "source": [
        "observation = env.reset()\n",
        "\n",
        "while True:  \n",
        "    env.render()\n",
        "\n",
        "    action = np.argmax(Q[observation])\n",
        "    #your agent goes here\n",
        "    \n",
        "         \n",
        "    observation, reward, done, info = env.step(action) \n",
        "   \n",
        "    if done: \n",
        "      env.render()\n",
        "      break;\n",
        "            \n",
        "env.close()"
      ],
      "execution_count": 267,
      "outputs": [
        {
          "output_type": "stream",
          "name": "stdout",
          "text": [
            "\n",
            "\u001b[41mS\u001b[0mFFF\n",
            "FHFH\n",
            "FFFH\n",
            "HFFG\n",
            "  (Down)\n",
            "S\u001b[41mF\u001b[0mFF\n",
            "FHFH\n",
            "FFFH\n",
            "HFFG\n",
            "  (Up)\n",
            "\u001b[41mS\u001b[0mFFF\n",
            "FHFH\n",
            "FFFH\n",
            "HFFG\n",
            "  (Down)\n",
            "SFFF\n",
            "\u001b[41mF\u001b[0mHFH\n",
            "FFFH\n",
            "HFFG\n",
            "  (Left)\n",
            "SFFF\n",
            "FHFH\n",
            "\u001b[41mF\u001b[0mFFH\n",
            "HFFG\n",
            "  (Up)\n",
            "SFFF\n",
            "FHFH\n",
            "\u001b[41mF\u001b[0mFFH\n",
            "HFFG\n",
            "  (Up)\n",
            "SFFF\n",
            "\u001b[41mF\u001b[0mHFH\n",
            "FFFH\n",
            "HFFG\n",
            "  (Left)\n",
            "SFFF\n",
            "FHFH\n",
            "\u001b[41mF\u001b[0mFFH\n",
            "HFFG\n",
            "  (Up)\n",
            "SFFF\n",
            "FHFH\n",
            "F\u001b[41mF\u001b[0mFH\n",
            "HFFG\n",
            "  (Down)\n",
            "SFFF\n",
            "FHFH\n",
            "FFFH\n",
            "H\u001b[41mF\u001b[0mFG\n",
            "  (Right)\n",
            "SFFF\n",
            "FHFH\n",
            "FFFH\n",
            "HF\u001b[41mF\u001b[0mG\n",
            "  (Down)\n",
            "SFFF\n",
            "FHFH\n",
            "FFFH\n",
            "H\u001b[41mF\u001b[0mFG\n",
            "  (Right)\n",
            "SFFF\n",
            "FHFH\n",
            "FFFH\n",
            "H\u001b[41mF\u001b[0mFG\n",
            "  (Right)\n",
            "SFFF\n",
            "FHFH\n",
            "FFFH\n",
            "H\u001b[41mF\u001b[0mFG\n",
            "  (Right)\n",
            "SFFF\n",
            "FHFH\n",
            "FFFH\n",
            "HF\u001b[41mF\u001b[0mG\n",
            "  (Down)\n",
            "SFFF\n",
            "FHFH\n",
            "FFFH\n",
            "HFF\u001b[41mG\u001b[0m\n"
          ]
        }
      ]
    }
  ]
}